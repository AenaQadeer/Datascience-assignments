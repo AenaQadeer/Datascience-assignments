{
 "cells": [
  {
   "cell_type": "code",
   "execution_count": 3,
   "id": "181d3643",
   "metadata": {},
   "outputs": [
    {
     "name": "stdout",
     "output_type": "stream",
     "text": [
      "Enter 1st number:4\n",
      "Enter 2nd number:4\n",
      "Addition :  8\n"
     ]
    }
   ],
   "source": [
    "\"\"\"Q6\"\"\"\n",
    "num1=int(input(\"Enter 1st number:\"))\n",
    "num2=int(input(\"Enter 2nd number:\"))\n",
    "\n",
    "addition=num1+num2\n",
    "print(\"Addition : \",addition)"
   ]
  },
  {
   "cell_type": "code",
   "execution_count": 7,
   "id": "8be99859",
   "metadata": {},
   "outputs": [
    {
     "name": "stdout",
     "output_type": "stream",
     "text": [
      "Enter First Name : Aena\n",
      "Enter Last Name : Qadeer\n",
      "Your Name :  Aena Qadeer\n",
      "Your name in reverse order : aneA reedaQ\n"
     ]
    }
   ],
   "source": [
    "\"\"\"Q5\"\"\"\n",
    "firstName=input(\"Enter First Name : \")\n",
    "lastName=input(\"Enter Last Name : \")\n",
    "\n",
    "yourName=firstName +\" \"+ lastName\n",
    "print(\"Your Name : \",yourName)\n",
    "reverse=firstName[::-1] +\" \"+ lastName[::-1]\n",
    "print(\"Your name in reverse order :\",reverse)"
   ]
  },
  {
   "cell_type": "code",
   "execution_count": 8,
   "id": "264cc93c",
   "metadata": {},
   "outputs": [
    {
     "name": "stdout",
     "output_type": "stream",
     "text": [
      "Enter radius of circle : 4\n",
      "Area of the circle :  12.56\n"
     ]
    }
   ],
   "source": [
    "\"\"\"Q4\"\"\"\n",
    "r=float(input(\"Enter radius of circle : \"))\n",
    "area=3.14*r\n",
    "print(\"Area of the circle : \",area)"
   ]
  },
  {
   "cell_type": "code",
   "execution_count": 15,
   "id": "d001c115",
   "metadata": {},
   "outputs": [
    {
     "name": "stdout",
     "output_type": "stream",
     "text": [
      "Current date and time : \n",
      "30/12/21 02:09:45\n"
     ]
    }
   ],
   "source": [
    "\"\"\"Q3\"\"\"\n",
    "from datetime import datetime \n",
    "now = datetime.now()\n",
    "print (\"Current date and time : \")\n",
    "print (now.strftime(\"%d/%m/%y %H:%M:%S\"))\n"
   ]
  },
  {
   "cell_type": "code",
   "execution_count": 16,
   "id": "b796aee2",
   "metadata": {},
   "outputs": [
    {
     "name": "stdout",
     "output_type": "stream",
     "text": [
      "Python version\n",
      "3.8.8 (default, Apr 13 2021, 15:08:03) [MSC v.1916 64 bit (AMD64)]\n",
      "Version info.\n",
      "sys.version_info(major=3, minor=8, micro=8, releaselevel='final', serial=0)\n"
     ]
    }
   ],
   "source": [
    "\"\"\"Q2\"\"\"\n",
    "import sys\n",
    "print(\"Python version\")\n",
    "print (sys.version)\n",
    "print(\"Version info.\")\n",
    "print (sys.version_info)"
   ]
  },
  {
   "cell_type": "code",
   "execution_count": 17,
   "id": "8b32a7f6",
   "metadata": {},
   "outputs": [
    {
     "name": "stdout",
     "output_type": "stream",
     "text": [
      "Twinkle, twinkle, little star, \n",
      "\tHow I wonder what you are! \n",
      "\t\tUp above the world so high, \n",
      "\t\tLike a diamond in the sky. \n",
      "Twinkle, twinkle, little star, \n",
      "\tHow I wonder what you are!\n"
     ]
    }
   ],
   "source": [
    "\"\"\"Q1\"\"\"\n",
    "print(\"Twinkle, twinkle, little star, \\n\\tHow I wonder what you are! \\n\\t\\tUp above the world so high, \\n\\t\\tLike a diamond in the sky. \\nTwinkle, twinkle, little star, \\n\\tHow I wonder what you are!\")\n"
   ]
  },
  {
   "cell_type": "code",
   "execution_count": null,
   "id": "649a5feb",
   "metadata": {},
   "outputs": [],
   "source": []
  }
 ],
 "metadata": {
  "kernelspec": {
   "display_name": "Python 3",
   "language": "python",
   "name": "python3"
  }
 },
 "nbformat": 4,
 "nbformat_minor": 5
}
